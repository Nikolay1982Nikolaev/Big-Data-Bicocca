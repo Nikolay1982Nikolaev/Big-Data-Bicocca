{
  "nbformat": 4,
  "nbformat_minor": 0,
  "metadata": {
    "colab": {
      "provenance": [],
      "authorship_tag": "ABX9TyNbzdWz/86/mB2bhhT4CuLx",
      "include_colab_link": true
    },
    "kernelspec": {
      "name": "python3",
      "display_name": "Python 3"
    },
    "language_info": {
      "name": "python"
    }
  },
  "cells": [
    {
      "cell_type": "markdown",
      "metadata": {
        "id": "view-in-github",
        "colab_type": "text"
      },
      "source": [
        "<a href=\"https://colab.research.google.com/github/Nikolay1982Nikolaev/Big-Data-Bicocca/blob/main/Sentiment_Analysis_.ipynb\" target=\"_parent\"><img src=\"https://colab.research.google.com/assets/colab-badge.svg\" alt=\"Open In Colab\"/></a>"
      ]
    },
    {
      "cell_type": "markdown",
      "source": [
        "## Sentiment Analysis:\n",
        "- Polarity detection: classify on two opposing sentiments a piace of text expression an opinion on a single issue\n",
        "- Emotion recognition: classify the emotions expresed in a piace of text. Usually based on a common model of emotions, like the hourglass of emotions\n",
        "- Aspect Extraction: identifying opinion targets in opinionated text. Can be done by POS detection\n",
        "- Subjectivity detection: identify objective and subjective sentences . Can be solved as a classification problem\n",
        "\n"
      ],
      "metadata": {
        "id": "g5T7cuFcYYS4"
      }
    },
    {
      "cell_type": "markdown",
      "source": [
        "## Lexicon based polarioty detection:\n",
        "\n",
        "Knowledge based approach:\n",
        "- uses opinion words, phrases and idioms in order to assess words and sentences polarity + other linguistic rules\n",
        "- a collection of opinion owrds is calle dOpinion Lexicon (or simply lexicon)\n",
        "-"
      ],
      "metadata": {
        "id": "fjdqlIaNYYVr"
      }
    },
    {
      "cell_type": "markdown",
      "source": [
        "## Lexicon based polarity detection\n",
        "\n",
        "Sentiment lexicon and tools (examples)\n",
        "1."
      ],
      "metadata": {
        "id": "AajCLNS8YYYR"
      }
    },
    {
      "cell_type": "markdown",
      "source": [
        "## Learning based polarity detection\n",
        "\n",
        "Classical ML approach: train , test predict\n",
        "\n",
        "Need supervision - labeled data\n",
        "\n",
        "Some relevant data repositories Kaggle–data and competitions with codes UCI ML Repository–historical benchmark repository Google Dataset Search–aggregates several sources Hugging Faces–data, pretrained models, codes, etc…"
      ],
      "metadata": {
        "id": "HA47x4JeYYa2"
      }
    },
    {
      "cell_type": "markdown",
      "source": [
        "Fine tuning of pretrained models Pretrained model, fine tuned on our data. 2 ways:\n",
        "\n",
        "1. Load a model and fine tune all the parameters on new data. It is like adding new data to a model that was already trained on different ones. We typically employ a low learning rate, as we consider that the pre-trained weights are already quite good in comparison to randomly initialized weights.\n",
        "\n",
        "2. Take the output of the pretrained model and use it as an input of a simpler one. It is like using embeddings (word or image embeddings, static or contextual) as input features of a new classifier.\n",
        "\n",
        "Typically, it is a common approach to remove the final layer (softmaxlayer) of the pre-trained network and replace it with a new softmaxlayer tailored to address our specific problem. For instance, if we have a pre-trained image classification model and want to adapt it for a new set of classes, we can replace the original output layer with one that corresponds to our new categories."
      ],
      "metadata": {
        "id": "ADOGR_R0YYdj"
      }
    },
    {
      "cell_type": "markdown",
      "source": [],
      "metadata": {
        "id": "qxdXCVm-YYf_"
      }
    },
    {
      "cell_type": "markdown",
      "source": [],
      "metadata": {
        "id": "vLpJYvopYYij"
      }
    },
    {
      "cell_type": "markdown",
      "source": [],
      "metadata": {
        "id": "7y3r4YmCYYlH"
      }
    },
    {
      "cell_type": "markdown",
      "source": [],
      "metadata": {
        "id": "Uqr7fwYZYYnd"
      }
    },
    {
      "cell_type": "markdown",
      "source": [],
      "metadata": {
        "id": "EKwvSSzlYYp5"
      }
    },
    {
      "cell_type": "markdown",
      "source": [],
      "metadata": {
        "id": "oVT0mTyuYYsX"
      }
    },
    {
      "cell_type": "markdown",
      "source": [],
      "metadata": {
        "id": "yaitFiRqYYuz"
      }
    },
    {
      "cell_type": "markdown",
      "source": [],
      "metadata": {
        "id": "QU5oR631YYxR"
      }
    },
    {
      "cell_type": "markdown",
      "source": [],
      "metadata": {
        "id": "cvbplEz4YYzt"
      }
    },
    {
      "cell_type": "markdown",
      "source": [],
      "metadata": {
        "id": "TRQE8YOsYY2R"
      }
    },
    {
      "cell_type": "markdown",
      "source": [],
      "metadata": {
        "id": "C0bMgITmYY5H"
      }
    }
  ]
}