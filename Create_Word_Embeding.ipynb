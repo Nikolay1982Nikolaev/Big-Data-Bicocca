{
  "nbformat": 4,
  "nbformat_minor": 0,
  "metadata": {
    "colab": {
      "provenance": [],
      "authorship_tag": "ABX9TyPM5x7E42J6+KnuI8M/n3BC",
      "include_colab_link": true
    },
    "kernelspec": {
      "name": "python3",
      "display_name": "Python 3"
    },
    "language_info": {
      "name": "python"
    }
  },
  "cells": [
    {
      "cell_type": "markdown",
      "metadata": {
        "id": "view-in-github",
        "colab_type": "text"
      },
      "source": [
        "<a href=\"https://colab.research.google.com/github/Nikolay1982Nikolaev/Big-Data-Bicocca/blob/main/Create_Word_Embeding.ipynb\" target=\"_parent\"><img src=\"https://colab.research.google.com/assets/colab-badge.svg\" alt=\"Open In Colab\"/></a>"
      ]
    },
    {
      "cell_type": "code",
      "execution_count": 1,
      "metadata": {
        "colab": {
          "base_uri": "https://localhost:8080/"
        },
        "id": "ijdjjlq6iZQu",
        "outputId": "f1916ef4-2d5a-467d-c569-c9efbf58e96f"
      },
      "outputs": [
        {
          "output_type": "stream",
          "name": "stdout",
          "text": [
            "Mounted at /content/drive\n"
          ]
        }
      ],
      "source": [
        "from google.colab import drive\n",
        "drive.mount('/content/drive')"
      ]
    },
    {
      "cell_type": "code",
      "source": [
        "FILEPATH = \"/content/drive/MyDrive/00.Last_sprint_UNIVERSITA/06.BigData/\""
      ],
      "metadata": {
        "id": "WoUZO8qsihTs"
      },
      "execution_count": 5,
      "outputs": []
    },
    {
      "cell_type": "markdown",
      "source": [
        "## Import and Pre-process your corpus:"
      ],
      "metadata": {
        "id": "ElWJsd1li1MG"
      }
    },
    {
      "cell_type": "code",
      "source": [
        "import nltk\n",
        "nltk.download('wordnet')\n",
        "nltk.download('stopwords')\n",
        "nltk.download('omw-1.4')"
      ],
      "metadata": {
        "colab": {
          "base_uri": "https://localhost:8080/"
        },
        "id": "ix62UShKjGjw",
        "outputId": "a063812a-6596-41b6-984e-35c3d491af3f"
      },
      "execution_count": 10,
      "outputs": [
        {
          "output_type": "stream",
          "name": "stderr",
          "text": [
            "[nltk_data] Downloading package wordnet to /root/nltk_data...\n",
            "[nltk_data] Downloading package stopwords to /root/nltk_data...\n",
            "[nltk_data]   Unzipping corpora/stopwords.zip.\n",
            "[nltk_data] Downloading package omw-1.4 to /root/nltk_data...\n"
          ]
        },
        {
          "output_type": "execute_result",
          "data": {
            "text/plain": [
              "True"
            ]
          },
          "metadata": {},
          "execution_count": 10
        }
      ]
    },
    {
      "cell_type": "code",
      "source": [
        "import pandas as pd\n",
        "df = pd.read_csv(FILEPATH + 'data/tripadvisor_hotel_reviews.csv')\n",
        "df.head()"
      ],
      "metadata": {
        "colab": {
          "base_uri": "https://localhost:8080/",
          "height": 206
        },
        "id": "AoeEBnvGixAO",
        "outputId": "b33db5aa-7095-45ba-a5ff-45f890cf926f"
      },
      "execution_count": 7,
      "outputs": [
        {
          "output_type": "execute_result",
          "data": {
            "text/plain": [
              "                                              Review  Rating\n",
              "0  nice hotel expensive parking got good deal sta...       4\n",
              "1  ok nothing special charge diamond member hilto...       2\n",
              "2  nice rooms not 4* experience hotel monaco seat...       3\n",
              "3  unique, great stay, wonderful time hotel monac...       5\n",
              "4  great stay great stay, went seahawk game aweso...       5"
            ],
            "text/html": [
              "\n",
              "  <div id=\"df-3ac2918c-afaf-4cb4-aced-3bde42a0b243\" class=\"colab-df-container\">\n",
              "    <div>\n",
              "<style scoped>\n",
              "    .dataframe tbody tr th:only-of-type {\n",
              "        vertical-align: middle;\n",
              "    }\n",
              "\n",
              "    .dataframe tbody tr th {\n",
              "        vertical-align: top;\n",
              "    }\n",
              "\n",
              "    .dataframe thead th {\n",
              "        text-align: right;\n",
              "    }\n",
              "</style>\n",
              "<table border=\"1\" class=\"dataframe\">\n",
              "  <thead>\n",
              "    <tr style=\"text-align: right;\">\n",
              "      <th></th>\n",
              "      <th>Review</th>\n",
              "      <th>Rating</th>\n",
              "    </tr>\n",
              "  </thead>\n",
              "  <tbody>\n",
              "    <tr>\n",
              "      <th>0</th>\n",
              "      <td>nice hotel expensive parking got good deal sta...</td>\n",
              "      <td>4</td>\n",
              "    </tr>\n",
              "    <tr>\n",
              "      <th>1</th>\n",
              "      <td>ok nothing special charge diamond member hilto...</td>\n",
              "      <td>2</td>\n",
              "    </tr>\n",
              "    <tr>\n",
              "      <th>2</th>\n",
              "      <td>nice rooms not 4* experience hotel monaco seat...</td>\n",
              "      <td>3</td>\n",
              "    </tr>\n",
              "    <tr>\n",
              "      <th>3</th>\n",
              "      <td>unique, great stay, wonderful time hotel monac...</td>\n",
              "      <td>5</td>\n",
              "    </tr>\n",
              "    <tr>\n",
              "      <th>4</th>\n",
              "      <td>great stay great stay, went seahawk game aweso...</td>\n",
              "      <td>5</td>\n",
              "    </tr>\n",
              "  </tbody>\n",
              "</table>\n",
              "</div>\n",
              "    <div class=\"colab-df-buttons\">\n",
              "\n",
              "  <div class=\"colab-df-container\">\n",
              "    <button class=\"colab-df-convert\" onclick=\"convertToInteractive('df-3ac2918c-afaf-4cb4-aced-3bde42a0b243')\"\n",
              "            title=\"Convert this dataframe to an interactive table.\"\n",
              "            style=\"display:none;\">\n",
              "\n",
              "  <svg xmlns=\"http://www.w3.org/2000/svg\" height=\"24px\" viewBox=\"0 -960 960 960\">\n",
              "    <path d=\"M120-120v-720h720v720H120Zm60-500h600v-160H180v160Zm220 220h160v-160H400v160Zm0 220h160v-160H400v160ZM180-400h160v-160H180v160Zm440 0h160v-160H620v160ZM180-180h160v-160H180v160Zm440 0h160v-160H620v160Z\"/>\n",
              "  </svg>\n",
              "    </button>\n",
              "\n",
              "  <style>\n",
              "    .colab-df-container {\n",
              "      display:flex;\n",
              "      gap: 12px;\n",
              "    }\n",
              "\n",
              "    .colab-df-convert {\n",
              "      background-color: #E8F0FE;\n",
              "      border: none;\n",
              "      border-radius: 50%;\n",
              "      cursor: pointer;\n",
              "      display: none;\n",
              "      fill: #1967D2;\n",
              "      height: 32px;\n",
              "      padding: 0 0 0 0;\n",
              "      width: 32px;\n",
              "    }\n",
              "\n",
              "    .colab-df-convert:hover {\n",
              "      background-color: #E2EBFA;\n",
              "      box-shadow: 0px 1px 2px rgba(60, 64, 67, 0.3), 0px 1px 3px 1px rgba(60, 64, 67, 0.15);\n",
              "      fill: #174EA6;\n",
              "    }\n",
              "\n",
              "    .colab-df-buttons div {\n",
              "      margin-bottom: 4px;\n",
              "    }\n",
              "\n",
              "    [theme=dark] .colab-df-convert {\n",
              "      background-color: #3B4455;\n",
              "      fill: #D2E3FC;\n",
              "    }\n",
              "\n",
              "    [theme=dark] .colab-df-convert:hover {\n",
              "      background-color: #434B5C;\n",
              "      box-shadow: 0px 1px 3px 1px rgba(0, 0, 0, 0.15);\n",
              "      filter: drop-shadow(0px 1px 2px rgba(0, 0, 0, 0.3));\n",
              "      fill: #FFFFFF;\n",
              "    }\n",
              "  </style>\n",
              "\n",
              "    <script>\n",
              "      const buttonEl =\n",
              "        document.querySelector('#df-3ac2918c-afaf-4cb4-aced-3bde42a0b243 button.colab-df-convert');\n",
              "      buttonEl.style.display =\n",
              "        google.colab.kernel.accessAllowed ? 'block' : 'none';\n",
              "\n",
              "      async function convertToInteractive(key) {\n",
              "        const element = document.querySelector('#df-3ac2918c-afaf-4cb4-aced-3bde42a0b243');\n",
              "        const dataTable =\n",
              "          await google.colab.kernel.invokeFunction('convertToInteractive',\n",
              "                                                    [key], {});\n",
              "        if (!dataTable) return;\n",
              "\n",
              "        const docLinkHtml = 'Like what you see? Visit the ' +\n",
              "          '<a target=\"_blank\" href=https://colab.research.google.com/notebooks/data_table.ipynb>data table notebook</a>'\n",
              "          + ' to learn more about interactive tables.';\n",
              "        element.innerHTML = '';\n",
              "        dataTable['output_type'] = 'display_data';\n",
              "        await google.colab.output.renderOutput(dataTable, element);\n",
              "        const docLink = document.createElement('div');\n",
              "        docLink.innerHTML = docLinkHtml;\n",
              "        element.appendChild(docLink);\n",
              "      }\n",
              "    </script>\n",
              "  </div>\n",
              "\n",
              "\n",
              "<div id=\"df-5e3fbf46-9daa-4703-95bd-4a998e52de39\">\n",
              "  <button class=\"colab-df-quickchart\" onclick=\"quickchart('df-5e3fbf46-9daa-4703-95bd-4a998e52de39')\"\n",
              "            title=\"Suggest charts\"\n",
              "            style=\"display:none;\">\n",
              "\n",
              "<svg xmlns=\"http://www.w3.org/2000/svg\" height=\"24px\"viewBox=\"0 0 24 24\"\n",
              "     width=\"24px\">\n",
              "    <g>\n",
              "        <path d=\"M19 3H5c-1.1 0-2 .9-2 2v14c0 1.1.9 2 2 2h14c1.1 0 2-.9 2-2V5c0-1.1-.9-2-2-2zM9 17H7v-7h2v7zm4 0h-2V7h2v10zm4 0h-2v-4h2v4z\"/>\n",
              "    </g>\n",
              "</svg>\n",
              "  </button>\n",
              "\n",
              "<style>\n",
              "  .colab-df-quickchart {\n",
              "      --bg-color: #E8F0FE;\n",
              "      --fill-color: #1967D2;\n",
              "      --hover-bg-color: #E2EBFA;\n",
              "      --hover-fill-color: #174EA6;\n",
              "      --disabled-fill-color: #AAA;\n",
              "      --disabled-bg-color: #DDD;\n",
              "  }\n",
              "\n",
              "  [theme=dark] .colab-df-quickchart {\n",
              "      --bg-color: #3B4455;\n",
              "      --fill-color: #D2E3FC;\n",
              "      --hover-bg-color: #434B5C;\n",
              "      --hover-fill-color: #FFFFFF;\n",
              "      --disabled-bg-color: #3B4455;\n",
              "      --disabled-fill-color: #666;\n",
              "  }\n",
              "\n",
              "  .colab-df-quickchart {\n",
              "    background-color: var(--bg-color);\n",
              "    border: none;\n",
              "    border-radius: 50%;\n",
              "    cursor: pointer;\n",
              "    display: none;\n",
              "    fill: var(--fill-color);\n",
              "    height: 32px;\n",
              "    padding: 0;\n",
              "    width: 32px;\n",
              "  }\n",
              "\n",
              "  .colab-df-quickchart:hover {\n",
              "    background-color: var(--hover-bg-color);\n",
              "    box-shadow: 0 1px 2px rgba(60, 64, 67, 0.3), 0 1px 3px 1px rgba(60, 64, 67, 0.15);\n",
              "    fill: var(--button-hover-fill-color);\n",
              "  }\n",
              "\n",
              "  .colab-df-quickchart-complete:disabled,\n",
              "  .colab-df-quickchart-complete:disabled:hover {\n",
              "    background-color: var(--disabled-bg-color);\n",
              "    fill: var(--disabled-fill-color);\n",
              "    box-shadow: none;\n",
              "  }\n",
              "\n",
              "  .colab-df-spinner {\n",
              "    border: 2px solid var(--fill-color);\n",
              "    border-color: transparent;\n",
              "    border-bottom-color: var(--fill-color);\n",
              "    animation:\n",
              "      spin 1s steps(1) infinite;\n",
              "  }\n",
              "\n",
              "  @keyframes spin {\n",
              "    0% {\n",
              "      border-color: transparent;\n",
              "      border-bottom-color: var(--fill-color);\n",
              "      border-left-color: var(--fill-color);\n",
              "    }\n",
              "    20% {\n",
              "      border-color: transparent;\n",
              "      border-left-color: var(--fill-color);\n",
              "      border-top-color: var(--fill-color);\n",
              "    }\n",
              "    30% {\n",
              "      border-color: transparent;\n",
              "      border-left-color: var(--fill-color);\n",
              "      border-top-color: var(--fill-color);\n",
              "      border-right-color: var(--fill-color);\n",
              "    }\n",
              "    40% {\n",
              "      border-color: transparent;\n",
              "      border-right-color: var(--fill-color);\n",
              "      border-top-color: var(--fill-color);\n",
              "    }\n",
              "    60% {\n",
              "      border-color: transparent;\n",
              "      border-right-color: var(--fill-color);\n",
              "    }\n",
              "    80% {\n",
              "      border-color: transparent;\n",
              "      border-right-color: var(--fill-color);\n",
              "      border-bottom-color: var(--fill-color);\n",
              "    }\n",
              "    90% {\n",
              "      border-color: transparent;\n",
              "      border-bottom-color: var(--fill-color);\n",
              "    }\n",
              "  }\n",
              "</style>\n",
              "\n",
              "  <script>\n",
              "    async function quickchart(key) {\n",
              "      const quickchartButtonEl =\n",
              "        document.querySelector('#' + key + ' button');\n",
              "      quickchartButtonEl.disabled = true;  // To prevent multiple clicks.\n",
              "      quickchartButtonEl.classList.add('colab-df-spinner');\n",
              "      try {\n",
              "        const charts = await google.colab.kernel.invokeFunction(\n",
              "            'suggestCharts', [key], {});\n",
              "      } catch (error) {\n",
              "        console.error('Error during call to suggestCharts:', error);\n",
              "      }\n",
              "      quickchartButtonEl.classList.remove('colab-df-spinner');\n",
              "      quickchartButtonEl.classList.add('colab-df-quickchart-complete');\n",
              "    }\n",
              "    (() => {\n",
              "      let quickchartButtonEl =\n",
              "        document.querySelector('#df-5e3fbf46-9daa-4703-95bd-4a998e52de39 button');\n",
              "      quickchartButtonEl.style.display =\n",
              "        google.colab.kernel.accessAllowed ? 'block' : 'none';\n",
              "    })();\n",
              "  </script>\n",
              "</div>\n",
              "    </div>\n",
              "  </div>\n"
            ],
            "application/vnd.google.colaboratory.intrinsic+json": {
              "type": "dataframe",
              "variable_name": "df",
              "summary": "{\n  \"name\": \"df\",\n  \"rows\": 20491,\n  \"fields\": [\n    {\n      \"column\": \"Review\",\n      \"properties\": {\n        \"dtype\": \"string\",\n        \"num_unique_values\": 20491,\n        \"samples\": [\n          \"not recommend hotel did reviewers actually stay hotel did, good thing hotel location really close leidseplein, shared facilities filthy got, did not look toilet floor cleaned month, facilities not cleaned 3 days got, disgusting, staff rude complained left night early refused refund night, not recommend hotel,  \",\n          \"barcelona rocks, stayed hotel jazz girlfriend 3 nights end august.the hotel excellent location carrer pelai, close placa catalunya ramblas appreciate buzz city removed respite mayhem crowds, caught airport bus barcelona costs 7 euros person return trip, hotel located 2 mins walk maximum placa universitat stop 2nd route, hotel modern clean, air conditioning room superb balcony looking street outside, room good size, bathroom fine scrimp bit toiletries, bring shower gels unless consider washing unnecessary luxury travels.the downside hotel possibly strengths depending viewpoint, hotel superbly situated 2 different metro stations extremely handy need city sights, downside feel rumbling trains hotel 3rd floor located, worse incessant sound taxi horns hotel mela times square nyc ca n't say disturbed consideration light sleepers irritation, couple shops hotel useful snacks drinks want avoid minibar prices, pool roof tiny n't recommend booking pretty nice place kill time particularly check day just wanted sit chill, n't expect able sit night, shuts fairly early.the hotel excellent 3 star property suggest prices pretty 4 star level, aside hotel tourist bus stopped directly opposite room recommend good way getting overview timer city want possible different areas, think used barcelona tours continuous loop alternative bus turistic 3 different loops involves changing bus round different areas.see gaudi, no fan architecture means, parc guell worth visit nice day n't mind walking uphill, sagrada familia outstanding, couple boat tours port harbour, personally bit underwhelming, save time money things.the nou camp tour worth visit no fan football, stadium amazing history club fascinating, plans redevelopment spectacle completed.ignore negative websites sprung make barcelona akin early days wild west, n't, just sensible major city, read ludicrous claims mark target muggers/pickpockets wore shorts/looked map/did n't speak spanish, rubbish, area ramblas felt safe, couple areas lower end raval little seedy late night just n't stupid fine, worst crime encountered charged 10 euros 2 heinekens irish bar just ramblas heard no-one eats restaurants 9 suffer lack atmosphere did, did n't appear strictly true concede 3 nights, tell restaurants open 8-8.30pm worth getting avoid queues, saturday night arrived restaurant 8.30 offered seat terrace opting window seat overlooking ramblas, 9 turning people away, 9.45 taken pick tables, burst activity 9 n't bad.enjoy,  \",\n          \"ok hotel good location stayed night way beijing rawa island, hotel service room ok. location great shopping restaurants, probably stay, opinion nice 3 star hotel,  \"\n        ],\n        \"semantic_type\": \"\",\n        \"description\": \"\"\n      }\n    },\n    {\n      \"column\": \"Rating\",\n      \"properties\": {\n        \"dtype\": \"number\",\n        \"std\": 1,\n        \"min\": 1,\n        \"max\": 5,\n        \"num_unique_values\": 5,\n        \"samples\": [\n          2,\n          1,\n          3\n        ],\n        \"semantic_type\": \"\",\n        \"description\": \"\"\n      }\n    }\n  ]\n}"
            }
          },
          "metadata": {},
          "execution_count": 7
        }
      ]
    },
    {
      "cell_type": "code",
      "source": [
        "len(df)"
      ],
      "metadata": {
        "colab": {
          "base_uri": "https://localhost:8080/"
        },
        "id": "7C22oJHXi5mi",
        "outputId": "c378c62d-dfba-494a-f704-50d0e02cd18e"
      },
      "execution_count": 8,
      "outputs": [
        {
          "output_type": "execute_result",
          "data": {
            "text/plain": [
              "20491"
            ]
          },
          "metadata": {},
          "execution_count": 8
        }
      ]
    },
    {
      "cell_type": "code",
      "source": [
        "raw_text = df['Review']"
      ],
      "metadata": {
        "id": "Pu4k7kukjZEU"
      },
      "execution_count": 9,
      "outputs": []
    },
    {
      "cell_type": "code",
      "source": [
        "from tqdm import tqdm\n",
        "from nltk.stem import WordNetLemmatizer\n",
        "lemmatizer = WordNetLemmatizer()\n",
        "\n",
        "text = raw_text.str.lower().str.replace('[^\\w\\s\\d]',' ', regex=True) # \\d tiene anche i caratteri numerici\n",
        "text = text.str.split()\n",
        "%time text = text.apply(lambda x: [lemmatizer.lemmatize(sent) for sent in x])\n",
        "for row in text:\n",
        "    [row.remove(i) for i in row if len(i) < 2]"
      ],
      "metadata": {
        "colab": {
          "base_uri": "https://localhost:8080/"
        },
        "id": "RP-1JLdMjeQE",
        "outputId": "0719c51c-f46b-4f5f-f40b-c9dc73f70979"
      },
      "execution_count": 11,
      "outputs": [
        {
          "output_type": "stream",
          "name": "stdout",
          "text": [
            "CPU times: user 9.78 s, sys: 84.6 ms, total: 9.86 s\n",
            "Wall time: 9.89 s\n"
          ]
        }
      ]
    },
    {
      "cell_type": "code",
      "source": [
        "from gensim.models.phrases import Phrases\n",
        "from nltk.corpus import stopwords\n",
        "connectors = stopwords.words('english')\n",
        "\n",
        "\n",
        "bigram = Phrases(text, min_count=5, threshold=0.2, connector_words=connectors) #gensim 4\n",
        "# %time bigram = Phrases(text, min_count=5, threshold=0.2, common_terms=connectors) #gensim 3\n",
        "%time bigrams = [bigram[item] for item in text]\n",
        "\n",
        "ngram = Phrases(bigrams, min_count=5, threshold=0.2, connector_words=connectors) # gensim 4\n",
        "# %time ngram = Phrases(bigrams, min_count=5, threshold=0.2, common_terms=connectors) # gensim 3\n",
        "%time ngrams = [ngram[item] for item in bigrams]"
      ],
      "metadata": {
        "colab": {
          "base_uri": "https://localhost:8080/"
        },
        "id": "PO00LWAljvfh",
        "outputId": "6f840032-b09a-4c1a-fa3f-1665bf86e0ab"
      },
      "execution_count": 12,
      "outputs": [
        {
          "output_type": "stream",
          "name": "stdout",
          "text": [
            "CPU times: user 4.21 s, sys: 60 ms, total: 4.27 s\n",
            "Wall time: 4.58 s\n",
            "CPU times: user 4.8 s, sys: 25 ms, total: 4.82 s\n",
            "Wall time: 5.1 s\n"
          ]
        }
      ]
    },
    {
      "cell_type": "code",
      "source": [
        "from nltk.corpus import stopwords\n",
        "stop = stopwords.words('english')\n",
        "stop.extend(['good', 'bad', 'dont', 'many', 'love', 'excellent', 'would', 'perfect', 'even', 'great','nice', 'amazing'])\n",
        "train_sentences = []\n",
        "for row in ngrams:\n",
        "    train_sentences.append([item for item in row if item not in stop])\n",
        "print(train_sentences[0])"
      ],
      "metadata": {
        "colab": {
          "base_uri": "https://localhost:8080/"
        },
        "id": "XBzlK5d2jla0",
        "outputId": "c77696a7-cedf-48eb-8100-499d2b4c9bea"
      },
      "execution_count": 13,
      "outputs": [
        {
          "output_type": "stream",
          "name": "stdout",
          "text": [
            "['nice_hotel', 'expensive_parking', 'got_good', 'deal_stay', 'hotel', 'anniversary', 'arrived_late', 'evening', 'took_advice', 'previous_review', 'valet_parking', 'check_quick', 'easy', 'little_disappointed', 'non_existent', 'view_room', 'room_clean', 'nice_size', 'bed_comfortable', 'woke', 'stiff', 'neck', 'high', 'pillow', 'soundproof', 'like', 'heard', 'music', 'room_night', 'morning', 'loud', 'bang', 'door_opening', 'closing', 'hear_people_talking', 'hallway', 'maybe', 'noisy', 'neighbor', 'aveda_bath', 'product_nice', 'goldfish', 'stay_nice', 'touch', 'taken_advantage', 'staying_longer', 'location_great_walking_distance', 'shopping', 'overall_nice', 'experience', 'pay_40', 'parking', 'night']\n"
          ]
        }
      ]
    },
    {
      "cell_type": "code",
      "source": [
        "import csv\n",
        "\n",
        "with open(FILEPATH +'data/tripadvisor_corups_clean.csv', 'w') as file:\n",
        "  writer = csv.writer(file)\n",
        "  writer.writerows(train_sentences)"
      ],
      "metadata": {
        "id": "RnsFp6wFj0XN"
      },
      "execution_count": 15,
      "outputs": []
    },
    {
      "cell_type": "markdown",
      "source": [
        "## Import W2V and FastText and train a vector model"
      ],
      "metadata": {
        "id": "qgTcX0qkwFuP"
      }
    },
    {
      "cell_type": "code",
      "source": [
        "import csv\n",
        "train_sentences = []\n",
        "with open(FILEPATH + 'data/tripadvisor_corups_clean.csv', 'r') as file:\n",
        "  csv_reader = csv.reader(file)\n",
        "  next(csv_reader) #skip the header row\n",
        "  for line in csv.reader(file):\n",
        "    train_sentences.append(line)"
      ],
      "metadata": {
        "id": "qwEdf768j8lr"
      },
      "execution_count": 17,
      "outputs": []
    },
    {
      "cell_type": "code",
      "source": [
        "from collections import Counter\n",
        "c = Counter()\n",
        "for sentence in train_sentences:\n",
        "  c.update(sentence)\n",
        "\n",
        "print(f'Most common words in the corpus: {c.most_common(10)}\\n')\n",
        "print(f'Number of different words in the corpus: {len(c)}')"
      ],
      "metadata": {
        "colab": {
          "base_uri": "https://localhost:8080/"
        },
        "id": "OmbvCfxEwMuS",
        "outputId": "be6860ec-6fd7-42a2-8e3f-d63cbd96160a"
      },
      "execution_count": 19,
      "outputs": [
        {
          "output_type": "stream",
          "name": "stdout",
          "text": [
            "Most common words in the corpus: [('hotel', 6512), ('room', 5539), ('stay', 3233), ('day', 3219), ('like', 3074), ('night', 3059), ('time', 2992), ('staff', 2528), ('place', 2523), ('resort', 2512)]\n",
            "\n",
            "Number of different words in the corpus: 85483\n"
          ]
        }
      ]
    },
    {
      "cell_type": "code",
      "source": [
        "from gensim.models import Word2Vec\n",
        "\n",
        "#sg: training algorithm. 1 for skipgram, 0 for cbow\n",
        "#hs: optimisation method. 1 for hierarchical softmax, 0 for negative sampling\n",
        "\n",
        "# %time w2v_model = Word2Vec(sg=0, hs=1, sentences=train_sentences, size=100, window=5, min_count=5, iter=2) #gensim 3\n",
        "%time w2v_model = Word2Vec(sg=0, hs=1,\n",
        "                           sentences=train_sentences,\n",
        "                           vector_size=100,\n",
        "                           window=5,\n",
        "                           min_count=10,\n",
        "                           epochs=2) #gensim 4"
      ],
      "metadata": {
        "colab": {
          "base_uri": "https://localhost:8080/"
        },
        "id": "W8_oc9WwwS5R",
        "outputId": "30a88deb-dcef-48f4-be69-9f6997afced0"
      },
      "execution_count": 20,
      "outputs": [
        {
          "output_type": "stream",
          "name": "stderr",
          "text": [
            "WARNING:gensim.models.word2vec:Both hierarchical softmax and negative sampling are activated. This is probably a mistake. You should set either 'hs=0' or 'negative=0' to disable one of them. \n"
          ]
        },
        {
          "output_type": "stream",
          "name": "stdout",
          "text": [
            "CPU times: user 24.2 s, sys: 127 ms, total: 24.4 s\n",
            "Wall time: 18.4 s\n"
          ]
        }
      ]
    },
    {
      "cell_type": "code",
      "source": [
        "from gensim.models import FastText\n",
        "\n",
        "# %time ft_model = FastText(sg=0, hs=1, sentences=train_sentences, size=100, window=5, min_count=5, iter=2, min_n=5, max_n=6) #gensim 3\n",
        "%time ft_model = FastText(sg=0,\n",
        "                          hs=1,\n",
        "                          sentences=train_sentences,\n",
        "                          vector_size=100,\n",
        "                          window=5,\n",
        "                          min_count=10,\n",
        "                          epochs=2,\n",
        "                          min_n=3,\n",
        "                          max_n=6) #gensim 4"
      ],
      "metadata": {
        "colab": {
          "base_uri": "https://localhost:8080/"
        },
        "id": "qNhYea8xwjJE",
        "outputId": "bee5c219-e101-4977-ac4c-b2680a21f7b2"
      },
      "execution_count": 21,
      "outputs": [
        {
          "output_type": "stream",
          "name": "stderr",
          "text": [
            "WARNING:gensim.models.word2vec:Both hierarchical softmax and negative sampling are activated. This is probably a mistake. You should set either 'hs=0' or 'negative=0' to disable one of them. \n"
          ]
        },
        {
          "output_type": "stream",
          "name": "stdout",
          "text": [
            "CPU times: user 1min 56s, sys: 687 ms, total: 1min 57s\n",
            "Wall time: 1min 27s\n"
          ]
        }
      ]
    },
    {
      "cell_type": "code",
      "source": [
        "len(w2v_model.wv) #gensim 4\n",
        "# len(w2v_model.wv.vocab) #gensim 3"
      ],
      "metadata": {
        "colab": {
          "base_uri": "https://localhost:8080/"
        },
        "id": "75uYnpA3wj7y",
        "outputId": "46eeb4a0-1233-4a09-bf21-4374f103de2b"
      },
      "execution_count": 24,
      "outputs": [
        {
          "output_type": "execute_result",
          "data": {
            "text/plain": [
              "22785"
            ]
          },
          "metadata": {},
          "execution_count": 24
        }
      ]
    },
    {
      "cell_type": "markdown",
      "source": [
        "## Save the Model to FIle"
      ],
      "metadata": {
        "id": "nr-ewHPwwmyw"
      }
    },
    {
      "cell_type": "code",
      "source": [
        "ft_model.save(FILEPATH  + 'models/ft_model.vec')\n",
        "w2v_model.save(FILEPATH + 'models/w2v_model.vec')"
      ],
      "metadata": {
        "id": "xPzHUDF9wq-y"
      },
      "execution_count": 27,
      "outputs": []
    },
    {
      "cell_type": "code",
      "source": [
        "#readable alternative (no subword information)\n",
        "ft_model.wv.save_word2vec_format(FILEPATH + 'models/ft_readable.vec', binary=False)"
      ],
      "metadata": {
        "id": "_Gsvl_uJwxVK"
      },
      "execution_count": 29,
      "outputs": []
    },
    {
      "cell_type": "code",
      "source": [
        "#save small version\n",
        "w2v_model.wv.save_word2vec_format(FILEPATH+'models/w2v_model.bin', binary=True)"
      ],
      "metadata": {
        "id": "rBapVXu5xWia"
      },
      "execution_count": 31,
      "outputs": []
    },
    {
      "cell_type": "markdown",
      "source": [
        "## Embedding Space Navigation"
      ],
      "metadata": {
        "id": "itStJa9YxfYL"
      }
    },
    {
      "cell_type": "code",
      "source": [
        "#from gensim.test.utils import get_tmpfile\n",
        "#fname = get_tmpfile(\"fasttext.model\")\n",
        "\n",
        "w2v_model = Word2Vec.load(FILEPATH + 'models/w2v_model.vec')\n",
        "ft_model = FastText.load(FILEPATH  + 'models/ft_model.vec')"
      ],
      "metadata": {
        "id": "aWQRq8CzxY_q"
      },
      "execution_count": 33,
      "outputs": []
    },
    {
      "cell_type": "code",
      "source": [
        "# print vector\n",
        "ft_model.wv['room'][:10]"
      ],
      "metadata": {
        "colab": {
          "base_uri": "https://localhost:8080/"
        },
        "id": "4gpZO8Ocxkb5",
        "outputId": "0568b720-43f6-40d2-845a-1b22466dab59"
      },
      "execution_count": 34,
      "outputs": [
        {
          "output_type": "execute_result",
          "data": {
            "text/plain": [
              "array([ 0.9082972 , -0.23496175,  1.2497648 , -0.37476614, -1.2075347 ,\n",
              "        0.34582984, -2.7972605 , -1.7164397 , -0.06300891, -1.0634736 ],\n",
              "      dtype=float32)"
            ]
          },
          "metadata": {},
          "execution_count": 34
        }
      ]
    },
    {
      "cell_type": "code",
      "source": [
        "# most similar\n",
        "w2v_model.wv.most_similar('italy')"
      ],
      "metadata": {
        "colab": {
          "base_uri": "https://localhost:8080/"
        },
        "id": "SI_nDav4xqX5",
        "outputId": "dcd9d039-98d8-4a48-f65b-7ad710e2602e"
      },
      "execution_count": 35,
      "outputs": [
        {
          "output_type": "execute_result",
          "data": {
            "text/plain": [
              "[('celebrate', 0.9921784996986389),\n",
              " ('catalonia', 0.9913711547851562),\n",
              " ('pleasure_staying', 0.9912887215614319),\n",
              " ('omni', 0.9905984997749329),\n",
              " ('short_break', 0.9901502728462219),\n",
              " ('visit_amsterdam', 0.9898723363876343),\n",
              " ('better_hotel', 0.9898374676704407),\n",
              " ('bit_apprehensive', 0.9880114197731018),\n",
              " ('getting_married', 0.9879375696182251),\n",
              " ('priced_hotel', 0.9876154661178589)]"
            ]
          },
          "metadata": {},
          "execution_count": 35
        }
      ]
    },
    {
      "cell_type": "code",
      "source": [
        "ft_model.wv.most_similar('breakfast')"
      ],
      "metadata": {
        "colab": {
          "base_uri": "https://localhost:8080/"
        },
        "id": "rJXGXKqVxsAJ",
        "outputId": "0a1bdcf8-79d9-4904-e6f9-59c166edd661"
      },
      "execution_count": 36,
      "outputs": [
        {
          "output_type": "execute_result",
          "data": {
            "text/plain": [
              "[('breakfast_ok', 0.9960452318191528),\n",
              " ('breakfast_breakfast', 0.9953687191009521),\n",
              " ('breakfast_item', 0.9950722455978394),\n",
              " ('skip_breakfast', 0.9942587018013),\n",
              " ('hot_breakfast', 0.9934364557266235),\n",
              " ('serf_breakfast', 0.9928027391433716),\n",
              " ('free_breakfast', 0.9921733140945435),\n",
              " ('breakfast_menu', 0.992038369178772),\n",
              " ('offer_breakfast', 0.9915217757225037),\n",
              " ('fine_breakfast', 0.9914931058883667)]"
            ]
          },
          "metadata": {},
          "execution_count": 36
        }
      ]
    },
    {
      "cell_type": "code",
      "source": [
        "# similarity between words\n",
        "\n",
        "word1 = 'guitar'\n",
        "word2 = 'piano'\n",
        "\n",
        "ft_similarity = ft_model.wv.similarity(word1, word2)\n",
        "w2v_similarity = w2v_model.wv.similarity(word1, word2)\n",
        "\n",
        "print(f'fasttext similarity between {word1} and {word2}: {ft_similarity}')\n",
        "print(f'Word2Vec similarity between {word1} and {word2}: {w2v_similarity}')"
      ],
      "metadata": {
        "colab": {
          "base_uri": "https://localhost:8080/"
        },
        "id": "UvSJruaLxuFS",
        "outputId": "c9079768-2943-4617-d058-43ee77c84c63"
      },
      "execution_count": 37,
      "outputs": [
        {
          "output_type": "stream",
          "name": "stdout",
          "text": [
            "fasttext similarity between guitar and piano: 0.7787719964981079\n",
            "Word2Vec similarity between guitar and piano: 0.9295568466186523\n"
          ]
        }
      ]
    },
    {
      "cell_type": "code",
      "source": [
        "ft_model.wv.most_similar(\"universita\", topn = 3)"
      ],
      "metadata": {
        "colab": {
          "base_uri": "https://localhost:8080/"
        },
        "id": "eOcEYdvexwEZ",
        "outputId": "ea430b14-5cb8-43e4-a78a-ca75ef94a5db"
      },
      "execution_count": 38,
      "outputs": [
        {
          "output_type": "execute_result",
          "data": {
            "text/plain": [
              "[('universitat', 0.9810056686401367),\n",
              " ('ritz_carltons', 0.9793961644172668),\n",
              " ('st_regis', 0.9760870933532715)]"
            ]
          },
          "metadata": {},
          "execution_count": 38
        }
      ]
    },
    {
      "cell_type": "code",
      "source": [
        "# w2v_model.most_similar(\"universita\", topn = 3)"
      ],
      "metadata": {
        "id": "nzg7zaiyxyc6"
      },
      "execution_count": 40,
      "outputs": []
    },
    {
      "cell_type": "code",
      "source": [
        "# embeddings algebra\n",
        "ft_model.wv.most_similar(positive=['woman','king'], negative=['man'], topn = 10) #queen"
      ],
      "metadata": {
        "colab": {
          "base_uri": "https://localhost:8080/"
        },
        "id": "NMGrcegAx0Da",
        "outputId": "e85704a4-7fa9-499f-8cd7-8864518e7c55"
      },
      "execution_count": 41,
      "outputs": [
        {
          "output_type": "execute_result",
          "data": {
            "text/plain": [
              "[('asleep', 0.9637253284454346),\n",
              " ('flowing', 0.9620884656906128),\n",
              " ('sleeping', 0.959139347076416),\n",
              " ('smelling', 0.9583942890167236),\n",
              " ('singing', 0.9551006555557251),\n",
              " ('replacing', 0.9533433318138123),\n",
              " ('soaking', 0.9514635801315308),\n",
              " ('sliding', 0.9513953328132629),\n",
              " ('ironing', 0.9501166343688965),\n",
              " ('carpeting', 0.9492058753967285)]"
            ]
          },
          "metadata": {},
          "execution_count": 41
        }
      ]
    },
    {
      "cell_type": "code",
      "source": [
        "ft_model.wv.similarity('queen', 'king') #il contesto è importante!!"
      ],
      "metadata": {
        "colab": {
          "base_uri": "https://localhost:8080/"
        },
        "id": "V4G2aMdPyFuB",
        "outputId": "a68a611a-cae2-4061-b82d-54cc71655262"
      },
      "execution_count": 42,
      "outputs": [
        {
          "output_type": "execute_result",
          "data": {
            "text/plain": [
              "0.7339852"
            ]
          },
          "metadata": {},
          "execution_count": 42
        }
      ]
    },
    {
      "cell_type": "code",
      "source": [
        "ft_model.wv.similarity('queen', 'princess') #il contesto è importante!!"
      ],
      "metadata": {
        "colab": {
          "base_uri": "https://localhost:8080/"
        },
        "id": "eiH5H1xFyH-Z",
        "outputId": "988e4c96-8ca6-4d13-933d-fb085f183e6e"
      },
      "execution_count": 43,
      "outputs": [
        {
          "output_type": "execute_result",
          "data": {
            "text/plain": [
              "0.11790038"
            ]
          },
          "metadata": {},
          "execution_count": 43
        }
      ]
    },
    {
      "cell_type": "code",
      "source": [
        "# find less correlated word in a list\n",
        "ft_model.wv.doesnt_match('breakfast cereal dinner lunch'.split())\n",
        "# ft_model.wv.doesnt_match('breakfast cereal dinner milk'.split())"
      ],
      "metadata": {
        "colab": {
          "base_uri": "https://localhost:8080/",
          "height": 36
        },
        "id": "esfOKTasyJYR",
        "outputId": "277257e4-0fc1-45f6-a95f-772adfb3eb1e"
      },
      "execution_count": 44,
      "outputs": [
        {
          "output_type": "execute_result",
          "data": {
            "text/plain": [
              "'breakfast'"
            ],
            "application/vnd.google.colaboratory.intrinsic+json": {
              "type": "string"
            }
          },
          "metadata": {},
          "execution_count": 44
        }
      ]
    }
  ]
}